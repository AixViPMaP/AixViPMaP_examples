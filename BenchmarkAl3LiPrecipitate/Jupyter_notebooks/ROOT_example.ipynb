{
 "cells": [
  {
   "cell_type": "markdown",
   "metadata": {},
   "source": [
    "# Simple OpenPhase example"
   ]
  },
  {
   "cell_type": "code",
   "execution_count": 1,
   "metadata": {},
   "outputs": [],
   "source": [
    "gInterpreter->AddIncludePath(\"/home/builder/include\");\n",
    "gInterpreter->Load(\"/home/builder/lib/libOPhase.so\");\n",
    "//gInterpreter->GetIncludePath();"
   ]
  },
  {
   "cell_type": "markdown",
   "metadata": {},
   "source": [
    "This is a ROOT notebook following this [example](https://root.cern.ch/notebooks/HowTos/HowTo_ROOT-Notebooks.html).\n"
   ]
  },
  {
   "cell_type": "code",
   "execution_count": 2,
   "metadata": {},
   "outputs": [],
   "source": [
    "#include \"Settings.h\"\n",
    "#include \"BoundaryConditions.h\"\n",
    "#include \"InterfaceEnergy.h\"\n",
    "#include \"InterfaceMobility.h\"\n",
    "#include \"DoubleObstacle.h\"\n",
    "#include \"PhaseField.h\"\n",
    "#include \"InterfaceField.h\"\n",
    "#include \"DrivingForce.h\"\n",
    "#include \"InterfaceEnergy.h\"\n",
    "#include \"Initializations.h\""
   ]
  },
  {
   "cell_type": "markdown",
   "metadata": {},
   "source": [
    "### Initialization and reading input parameters"
   ]
  },
  {
   "cell_type": "code",
   "execution_count": 3,
   "metadata": {},
   "outputs": [
    {
     "name": "stdout",
     "output_type": "stream",
     "text": [
      "\n",
      ">>>>>>>>>>>>>>>>>>>>>>>>>>>>>>>>>>>>>>>>>>>>>>>>>>>>>>>>>>>>\n",
      "  OpenPhase\n",
      "\n",
      "  An open-source phase-field simulation library\n",
      "  www.openphase.de\n",
      "\n",
      "  Core development: \n",
      "  Interdisciplinary Centre for Advanced Materials Simulation (ICAMS) \n",
      "  Ruhr University Bochum, Germany \n",
      "  2009 - 2016\n",
      "\n",
      "  Licensed under GNU GPLv3\n",
      "<<<<<<<<<<<<<<<<<<<<<<<<<<<<<<<<<<<<<<<<<<<<<<<<<<<<<<<<<<<<\n",
      "\n",
      "Settings                                : Initialized\n",
      "------------------------------------------------------------\n",
      "------------------------------------------------------------\n",
      "Global project parameters source        : ProjectInput/ProjectInput.opi\n",
      "Simulation Title                        : Multi\n",
      "--< Model parameters >--------------------------------------\n",
      "Units of length                         : m\n",
      "Units of mass                           : kg\n",
      "Units of time                           : s\n",
      "Energy units                            : J\n",
      "Number of OpenMP Threads                : 1\n",
      "Number of Time Steps                    : 20\n",
      "Initial Time Step                       : 0.001\n",
      "System Size in X Direction              : 50\n",
      "System Size in Y Direction              : 50\n",
      "System Size in Z Direction              : 50\n",
      "Grid Spacing                            : 1e-08\n",
      "--< Phase field parameters >--------------------------------\n",
      "Number of Phases per Grain              : 2\n",
      "Number of constituents                  : 1\n",
      "Number of sublattices                   : 1\n",
      "Interface Width (in grid points)        : 5\n",
      "Interface Mobility                      : 2e-11\n",
      "Interface Energy                        : 0.05\n",
      "--< Additional parameters >---------------------------------\n",
      "Restart switch (Yes/No)                 : No\n",
      "Restart at time step                    : 110\n",
      "Restart output every (tSteps)           : 10000\n",
      "Phase field index for intitialization   : 1\n",
      "Grain radius for intitialization        : 8\n",
      "Remeshing                               : No\n",
      "Output Distance to Disk(in tSteps)      : 1\n",
      "Output Distance to Screen(in tSteps)    : 1\n",
      "------------------------------------------------------------\n",
      "------------------------------------------------------------\n",
      "------------------------------------------------------------\n",
      "BoundaryConditions                      : Initialized\n",
      "\n",
      "--< Boundary conditions >-----------------------------------\n",
      "Source                                  : ProjectInput/BoundaryConditions.opi\n",
      "X axis beginning boundary condition     : Periodic\n",
      "X axis far end boundary condition       : Periodic\n",
      "Y axis beginning boundary condition     : Periodic\n",
      "Y axis far end boundary condition       : Periodic\n",
      "Z axis beginning boundary condition     : Periodic\n",
      "Z axis far end boundary condition       : Periodic\n",
      "------------------------------------------------------------\n",
      "PhaseField                              : Initialized\n",
      "InterfaceField                          : Initialized\n",
      "DoubleObstacle                          : Initialized\n",
      "InterfaceEnergyIdentical                : Initialized\n",
      "InterfaceMobilityIdentical              : Initialized\n",
      "DrivingForce                            : Initialized\n",
      "\n",
      "--< Driving Force settings >--------------------------------\n",
      "Source                                  : ProjectInput/DrivingForceInput.opi\n",
      "Driving force cutoff                    : 300\n",
      "Driving force averaging                 : Yes\n",
      "Parameter for Key \"Range\" does not exist in the input file. Taking the default value: 3\n",
      "Parameter for Key \"Thresh\" does not exist in the input file. Taking the default value: 0.333333\n",
      "------------------------------------------------------------\n",
      "\n",
      "--< Boundary conditions >-----------------------------------\n",
      "Source                                  : ProjectInput/BoundaryConditions.opi\n",
      "X axis beginning boundary condition     : Periodic\n",
      "X axis far end boundary condition       : Periodic\n",
      "Y axis beginning boundary condition     : Periodic\n",
      "Y axis far end boundary condition       : Periodic\n",
      "Z axis beginning boundary condition     : Periodic\n",
      "Z axis far end boundary condition       : Periodic\n",
      "------------------------------------------------------------\n",
      "0\n"
     ]
    }
   ],
   "source": [
    "openphase::Settings            OPSettings;\n",
    "\n",
    "OPSettings.Initialize();\n",
    "OPSettings.ReadInput();\n",
    "\n",
    "openphase::InterfaceMobilityIdentical   Mu;\n",
    "openphase::BoundaryConditions  BC(OPSettings);\n",
    "openphase::PhaseField          Phi(OPSettings);\n",
    "openphase::DrivingForce        dG;\n",
    "openphase::InterfaceField      Psi(OPSettings);\n",
    "openphase::DoubleObstacle      DO(OPSettings);\n",
    "openphase::InterfaceEnergyIdentical Sigma;\n",
    "\n",
    "Sigma.Initialize(OPSettings);\n",
    "Mu.Initialize(OPSettings);\n",
    "dG.Initialize(OPSettings);\n",
    "\n",
    "dG.ReadInput();\n",
    "BC.ReadInput();\n",
    "\n",
    "double t=0, dt=OPSettings.dt * 0.01;\n",
    "\n",
    "openphase::Initializations::Single(Phi, 0, BC, OPSettings);\n",
    "openphase::Initializations::Sphere(Phi, 1, 8.5, 25,25,25,  BC, OPSettings);"
   ]
  },
  {
   "cell_type": "markdown",
   "metadata": {},
   "source": [
    "### Define a function to calculate statistics\n",
    "Using the `%%cpp` [magic](https://github.com/root-project/root/blob/master/bindings/pyroot/JupyROOT/kernel/magics/cppmagic.py).\n"
   ]
  },
  {
   "cell_type": "code",
   "execution_count": 4,
   "metadata": {},
   "outputs": [],
   "source": [
    "%%cpp -d\n",
    "\n",
    "double f_v(int phiid=1)\n",
    "{// calculate volume fraction of phase `phiid`\n",
    "    double phisum=0.0;\n",
    "    for (int j=0; j<Phi.Fields.tot_size(); j++)\n",
    "        phisum+=Phi.Fields[j].get(phiid);\n",
    "    return phisum/Phi.Fields.tot_size();\n",
    "};"
   ]
  },
  {
   "cell_type": "markdown",
   "metadata": {},
   "source": [
    "### Time advancing"
   ]
  },
  {
   "cell_type": "code",
   "execution_count": 5,
   "metadata": {},
   "outputs": [
    {
     "name": "stdout",
     "output_type": "stream",
     "text": [
      "(double) 0.00050000000\n"
     ]
    }
   ],
   "source": [
    "for(int i=0; i<50; i++)\n",
    "{\n",
    "    Sigma.CalculateCubic(Phi);\n",
    "    Mu.CalculateCubic(Phi);\n",
    "    DO.GetPsi(Phi, Sigma, Mu, Psi);\n",
    "    dG.Average(Phi, BC);\n",
    "    dG.MergePsi(Phi, Sigma, Mu, Psi);\n",
    "    Psi.Normalize(Phi, BC, dt);\n",
    "    Psi.Merge(Phi, BC, dt);\n",
    "    t+=dt;\n",
    "}\n",
    "t"
   ]
  },
  {
   "cell_type": "markdown",
   "metadata": {},
   "source": [
    "### Plot $\\phi$ profile and status parameters\n",
    "\n",
    "The following code is modified from [this example](https://root.cern.ch/root/htmldoc/guides/users-guide/ROOTUsersGuide.html#tgraph).\n",
    "\n",
    "The line profile of $\\phi_1(y)$ is ploted along the line $(25,0,25)$--$(25,50,25)$."
   ]
  },
  {
   "cell_type": "code",
   "execution_count": 6,
   "metadata": {},
   "outputs": [
    {
     "data": {
      "text/html": [
       "\n",
       "<div id=\"root_plot_1\"\n",
       "     style=\"width: 596px; height: 272px\">\n",
       "</div>\n",
       "\n",
       "<script>\n",
       " requirejs.config({\n",
       "     paths: {\n",
       "       'JSRootCore' : 'https://root.cern.ch/js/notebook//scripts/JSRootCore',\n",
       "     }\n",
       "   });\n",
       " require(['JSRootCore'],\n",
       "     function(Core) {\n",
       "       var obj = Core.JSONR_unref({\"_typename\":\"TCanvas\",\"fUniqueID\":0,\"fBits\":53673992,\"fLineColor\":1,\"fLineStyle\":1,\"fLineWidth\":1,\"fFillColor\":0,\"fFillStyle\":1001,\"fLeftMargin\":0.1,\"fRightMargin\":0.1,\"fBottomMargin\":0.1,\"fTopMargin\":0.1,\"fXfile\":2,\"fYfile\":2,\"fAfile\":1,\"fXstat\":0.99,\"fYstat\":0.99,\"fAstat\":2,\"fFrameFillColor\":0,\"fFrameLineColor\":1,\"fFrameFillStyle\":1001,\"fFrameLineStyle\":1,\"fFrameLineWidth\":1,\"fFrameBorderSize\":1,\"fFrameBorderMode\":0,\"fX1\":-6.7375005019829e-8,\"fY1\":-0.137500010244549,\"fX2\":6.06375005019829e-7,\"fY2\":1.23750001024455,\"fXtoAbsPixelk\":59.600053552437,\"fXtoPixelk\":59.600053552437,\"fXtoPixel\":884601099.990957,\"fYtoAbsPixelk\":244.800048378754,\"fYtoPixelk\":244.800048378754,\"fYtoPixel\":-197.818178870461,\"fUtoAbsPixelk\":5e-5,\"fUtoPixelk\":5e-5,\"fUtoPixel\":596,\"fVtoAbsPixelk\":272.00005,\"fVtoPixelk\":272,\"fVtoPixel\":-272,\"fAbsPixeltoXk\":-6.7375005019829e-8,\"fPixeltoXk\":-6.7375005019829e-8,\"fPixeltoX\":1.13045303697929e-9,\"fAbsPixeltoYk\":1.23750001024455,\"fPixeltoYk\":-0.137500010244549,\"fPixeltoY\":-0.0050551471341511,\"fXlowNDC\":0,\"fYlowNDC\":0,\"fXUpNDC\":0,\"fYUpNDC\":0,\"fWNDC\":1,\"fHNDC\":1,\"fAbsXlowNDC\":0,\"fAbsYlowNDC\":0,\"fAbsWNDC\":1,\"fAbsHNDC\":1,\"fUxmin\":0,\"fUymin\":0,\"fUxmax\":5.39e-7,\"fUymax\":1.1,\"fTheta\":30,\"fPhi\":30,\"fAspectRatio\":0,\"fNumber\":0,\"fTickx\":0,\"fTicky\":0,\"fLogx\":0,\"fLogy\":0,\"fLogz\":0,\"fPadPaint\":0,\"fCrosshair\":0,\"fCrosshairPos\":0,\"fBorderSize\":2,\"fBorderMode\":0,\"fModified\":false,\"fGridx\":false,\"fGridy\":false,\"fAbsCoord\":false,\"fEditable\":true,\"fFixedAspectRatio\":false,\"fPrimitives\":{\"_typename\":\"TList\",\"name\":\"TList\",\"arr\":[{\"_typename\":\"TFrame\",\"fUniqueID\":0,\"fBits\":50331656,\"fLineColor\":1,\"fLineStyle\":1,\"fLineWidth\":1,\"fFillColor\":0,\"fFillStyle\":1001,\"fX1\":0,\"fY1\":0,\"fX2\":5.39e-7,\"fY2\":1.1,\"fBorderSize\":1,\"fBorderMode\":0},{\"_typename\":\"TGraph\",\"fUniqueID\":0,\"fBits\":50332680,\"fName\":\"Graph\",\"fTitle\":\"Graph\",\"fLineColor\":1,\"fLineStyle\":1,\"fLineWidth\":1,\"fFillColor\":0,\"fFillStyle\":1000,\"fMarkerColor\":1,\"fMarkerStyle\":3,\"fMarkerSize\":1,\"fNpoints\":50,\"fX\":[0,1e-8,2e-8,3e-8,4e-8,5e-8,6e-8,7e-8,8e-8,9e-8,1e-7,1.1e-7,1.2e-7,1.3e-7,1.4e-7,1.5e-7,1.6e-7,1.7e-7,1.8e-7,1.9e-7,2e-7,2.1e-7,2.2e-7,2.3e-7,2.4e-7,2.5e-7,2.6e-7,2.7e-7,2.8e-7,2.9e-7,3e-7,3.1e-7,3.2e-7,3.3e-7,3.4e-7,3.5e-7,3.6e-7,3.7e-7,3.8e-7,3.9e-7,4e-7,4.1e-7,4.2e-7,4.3e-7,4.4e-7,4.5e-7,4.6e-7,4.7e-7,4.8e-7,4.9e-7],\"fY\":[0,0,0,0,0,0,0,0,0,0,0,0,0,0,0,0,0.0435095122150445,0.259042690213761,0.562113053272814,0.842793077812739,1,1,1,1,1,1,1,1,1,1,1,0.842793077812739,0.562113053272814,0.259042690213761,0.0435095122150446,0,0,0,0,0,0,0,0,0,0,0,0,0,0,0],\"fFunctions\":{\"_typename\":\"TList\",\"name\":\"TList\",\"arr\":[],\"opt\":[]},\"fHistogram\":{\"_typename\":\"TH1F\",\"fUniqueID\":0,\"fBits\":50332168,\"fName\":\"Graph\",\"fTitle\":\"Graph\",\"fLineColor\":602,\"fLineStyle\":1,\"fLineWidth\":1,\"fFillColor\":0,\"fFillStyle\":1001,\"fMarkerColor\":1,\"fMarkerStyle\":1,\"fMarkerSize\":1,\"fNcells\":102,\"fXaxis\":{\"_typename\":\"TAxis\",\"fUniqueID\":0,\"fBits\":50331648,\"fName\":\"xaxis\",\"fTitle\":\"\",\"fNdivisions\":510,\"fAxisColor\":1,\"fLabelColor\":1,\"fLabelFont\":42,\"fLabelOffset\":0.005,\"fLabelSize\":0.035,\"fTickLength\":0.03,\"fTitleOffset\":1,\"fTitleSize\":0.035,\"fTitleColor\":1,\"fTitleFont\":42,\"fNbins\":100,\"fXmin\":0,\"fXmax\":5.39e-7,\"fXbins\":[],\"fFirst\":0,\"fLast\":0,\"fBits2\":0,\"fTimeDisplay\":false,\"fTimeFormat\":\"\",\"fLabels\":null,\"fModLabs\":null},\"fYaxis\":{\"_typename\":\"TAxis\",\"fUniqueID\":0,\"fBits\":50331648,\"fName\":\"yaxis\",\"fTitle\":\"\",\"fNdivisions\":510,\"fAxisColor\":1,\"fLabelColor\":1,\"fLabelFont\":42,\"fLabelOffset\":0.005,\"fLabelSize\":0.035,\"fTickLength\":0.03,\"fTitleOffset\":0,\"fTitleSize\":0.035,\"fTitleColor\":1,\"fTitleFont\":42,\"fNbins\":1,\"fXmin\":0,\"fXmax\":1.1,\"fXbins\":[],\"fFirst\":0,\"fLast\":0,\"fBits2\":0,\"fTimeDisplay\":false,\"fTimeFormat\":\"\",\"fLabels\":null,\"fModLabs\":null},\"fZaxis\":{\"_typename\":\"TAxis\",\"fUniqueID\":0,\"fBits\":50331648,\"fName\":\"zaxis\",\"fTitle\":\"\",\"fNdivisions\":510,\"fAxisColor\":1,\"fLabelColor\":1,\"fLabelFont\":42,\"fLabelOffset\":0.005,\"fLabelSize\":0.035,\"fTickLength\":0.03,\"fTitleOffset\":1,\"fTitleSize\":0.035,\"fTitleColor\":1,\"fTitleFont\":42,\"fNbins\":1,\"fXmin\":0,\"fXmax\":1,\"fXbins\":[],\"fFirst\":0,\"fLast\":0,\"fBits2\":0,\"fTimeDisplay\":false,\"fTimeFormat\":\"\",\"fLabels\":null,\"fModLabs\":null},\"fBarOffset\":0,\"fBarWidth\":1000,\"fEntries\":0,\"fTsumw\":0,\"fTsumw2\":0,\"fTsumwx\":0,\"fTsumwx2\":0,\"fMaximum\":1.1,\"fMinimum\":0,\"fNormFactor\":0,\"fContour\":[],\"fSumw2\":[],\"fOption\":\"\",\"fFunctions\":{\"_typename\":\"TList\",\"name\":\"TList\",\"arr\":[],\"opt\":[]},\"fBufferSize\":0,\"fBuffer\":[],\"fBinStatErrOpt\":0,\"fArray\":[0,0,0,0,0,0,0,0,0,0,0,0,0,0,0,0,0,0,0,0,0,0,0,0,0,0,0,0,0,0,0,0,0,0,0,0,0,0,0,0,0,0,0,0,0,0,0,0,0,0,0,0,0,0,0,0,0,0,0,0,0,0,0,0,0,0,0,0,0,0,0,0,0,0,0,0,0,0,0,0,0,0,0,0,0,0,0,0,0,0,0,0,0,0,0,0,0,0,0,0,0,0]},\"fMinimum\":-1111,\"fMaximum\":-1111},{\"_typename\":\"TPaveText\",\"fUniqueID\":0,\"fBits\":50331657,\"fLineColor\":1,\"fLineStyle\":1,\"fLineWidth\":1,\"fFillColor\":0,\"fFillStyle\":0,\"fX1\":2.39588212641528e-7,\"fY1\":1.13963236828389,\"fX2\":2.99411787358472e-7,\"fY2\":1.23062501669861,\"fX1NDC\":0.455604026845638,\"fY1NDC\":0.928823534180136,\"fX2NDC\":0.544395973154362,\"fY2NDC\":0.995000004768372,\"fBorderSize\":0,\"fInit\":1,\"fShadowColor\":1,\"fCornerRadius\":0,\"fOption\":\"blNDC\",\"fName\":\"title\",\"fTextAngle\":0,\"fTextSize\":0,\"fTextAlign\":22,\"fTextColor\":1,\"fTextFont\":42,\"fLabel\":\"\",\"fLongest\":5,\"fMargin\":0.05,\"fLines\":{\"_typename\":\"TList\",\"name\":\"TList\",\"arr\":[{\"_typename\":\"TLatex\",\"fUniqueID\":0,\"fBits\":50331648,\"fName\":\"\",\"fTitle\":\"Graph\",\"fTextAngle\":0,\"fTextSize\":0,\"fTextAlign\":0,\"fTextColor\":0,\"fTextFont\":0,\"fX\":0,\"fY\":0,\"fLineColor\":1,\"fLineStyle\":1,\"fLineWidth\":2,\"fLimitFactorSize\":3,\"fOriginSize\":0.0562499985098839}],\"opt\":[\"\"]}}],\"opt\":[\"\",\"acp\",\"blNDC\"]},\"fExecs\":null,\"fName\":\"c1\",\"fTitle\":\"Graph Draw Options\",\"fNumPaletteColor\":0,\"fNextPaletteColor\":0,\"fDISPLAY\":\"$DISPLAY\",\"fDoubleBuffer\":0,\"fRetained\":true,\"fXsizeUser\":0,\"fYsizeUser\":0,\"fXsizeReal\":20,\"fYsizeReal\":10,\"fWindowTopX\":0,\"fWindowTopY\":0,\"fWindowWidth\":0,\"fWindowHeight\":0,\"fCw\":596,\"fCh\":272,\"fCatt\":{\"_typename\":\"TAttCanvas\",\"fXBetween\":2,\"fYBetween\":2,\"fTitleFromTop\":1.2,\"fXdate\":0.2,\"fYdate\":0.3,\"fAdate\":1},\"kMoveOpaque\":true,\"kResizeOpaque\":true,\"fHighLightColor\":2,\"fBatch\":true,\"kShowEventStatus\":false,\"kAutoExec\":true,\"kMenuBar\":true});\n",
       "       Core.draw(\"root_plot_1\", obj, \"\");\n",
       "     }\n",
       " );\n",
       "</script>\n"
      ],
      "text/plain": [
       "<IPython.core.display.HTML object>"
      ]
     },
     "metadata": {},
     "output_type": "display_data"
    },
    {
     "name": "stdout",
     "output_type": "stream",
     "text": [
      "fv[1]=0.0105743\n",
      "Interface energy = 25234.3"
     ]
    }
   ],
   "source": [
    "%jsroot\n",
    "{\n",
    "    Int_t n = OPSettings.Nx;\n",
    "    Double_t x[n], y[n];\n",
    "    for (Int_t i=0;i<n;i++) {\n",
    "        x[i]= i * OPSettings.dx;\n",
    "        y[i]= Phi.Fields(25,i,25).get(1);\n",
    "    }\n",
    "    \n",
    "    TGraph *gr  = new TGraph(n,x,y);\n",
    "    TCanvas *c1 = new TCanvas(\"c1\",\"Graph Draw Options\",\n",
    "                             200,10,600,300);\n",
    "\n",
    "    // draw the graph with axis, continuous line, and put a * at each point\n",
    "    gr->Draw(\"AC*\");\n",
    "    c1->Draw();\n",
    "    double fv=f_v();\n",
    "    cout<< \"fv[1]=\"<< fv << endl \n",
    "        << \"Interface energy = \" << DO.Energy(Phi, Sigma);\n",
    "}"
   ]
  },
  {
   "cell_type": "code",
   "execution_count": null,
   "metadata": {},
   "outputs": [],
   "source": []
  }
 ],
 "metadata": {
  "kernelspec": {
   "display_name": "ROOT C++",
   "language": "c++",
   "name": "root"
  },
  "language_info": {
   "codemirror_mode": "text/x-c++src",
   "file_extension": ".C",
   "mimetype": " text/x-c++src",
   "name": "c++"
  }
 },
 "nbformat": 4,
 "nbformat_minor": 2
}
